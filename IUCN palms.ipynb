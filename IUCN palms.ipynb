{
 "cells": [
  {
   "cell_type": "markdown",
   "metadata": {},
   "source": [
    "# Global conservation status of palms: where we are and what we need to achieve\n",
    "\n",
    "We shall extract data from IUCN and generate a bunch of grapichs\n",
    "Then undertake a spatial analyses using ConR from data taken from GBIF"
   ]
  },
  {
   "cell_type": "markdown",
   "metadata": {},
   "source": [
    "## Extract IUCN redlist data, species already assessed"
   ]
  },
  {
   "cell_type": "code",
   "execution_count": 2,
   "metadata": {},
   "outputs": [],
   "source": [
    "import pandas as pd\n",
    "import codecs\n",
    "import matplotlib.pyplot as plt\n",
    "import numpy as np"
   ]
  },
  {
   "cell_type": "markdown",
   "metadata": {},
   "source": [
    "### Access via API"
   ]
  },
  {
   "cell_type": "code",
   "execution_count": 12,
   "metadata": {},
   "outputs": [
    {
     "data": {
      "text/html": [
       "<div>\n",
       "<style scoped>\n",
       "    .dataframe tbody tr th:only-of-type {\n",
       "        vertical-align: middle;\n",
       "    }\n",
       "\n",
       "    .dataframe tbody tr th {\n",
       "        vertical-align: top;\n",
       "    }\n",
       "\n",
       "    .dataframe thead th {\n",
       "        text-align: right;\n",
       "    }\n",
       "</style>\n",
       "<table border=\"1\" class=\"dataframe\">\n",
       "  <thead>\n",
       "    <tr style=\"text-align: right;\">\n",
       "      <th></th>\n",
       "      <th>name</th>\n",
       "      <th>result</th>\n",
       "    </tr>\n",
       "  </thead>\n",
       "  <tbody>\n",
       "  </tbody>\n",
       "</table>\n",
       "</div>"
      ],
      "text/plain": [
       "Empty DataFrame\n",
       "Columns: [name, result]\n",
       "Index: []"
      ]
     },
     "execution_count": 12,
     "metadata": {},
     "output_type": "execute_result"
    }
   ],
   "source": [
    "#not workin for family level\n",
    "\n",
    "# you need to ask for a token via the website https://apiv3.iucnredlist.org/\n",
    "#my Thomas Token: \n",
    "#  12ea6779b92025d3c9091c76a5eeb0915a7a037f1da3dde109444400d69f7640\n",
    "\n",
    "URL = \"https://apiv3.iucnredlist.org/api/v3/species/monodora?token=12ea6779b92025d3c9091c76a5eeb0915a7a037f1da3dde109444400d69f7640\"\n",
    "pd.read_json(URL)"
   ]
  },
  {
   "cell_type": "markdown",
   "metadata": {},
   "source": [
    "### Access via csv file downloaded from REDLIST"
   ]
  },
  {
   "cell_type": "code",
   "execution_count": 88,
   "metadata": {},
   "outputs": [],
   "source": [
    "myfile = 'assessments.csv'\n",
    "doc = codecs.open(myfile,'rU','UTF-8') #open for reading with \"universal\" type set\n",
    "df = pd.read_csv(doc, sep=',')\n",
    "\n",
    "#delete assessements with version 2.8 (keep only 3.1 versions)\n",
    "\n",
    "df = df.query(\"criteriaVersion == 3.1\")\n",
    "df = df.reset_index(drop=True)"
   ]
  },
  {
   "cell_type": "code",
   "execution_count": 89,
   "metadata": {},
   "outputs": [
    {
     "data": {
      "text/html": [
       "<div>\n",
       "<style scoped>\n",
       "    .dataframe tbody tr th:only-of-type {\n",
       "        vertical-align: middle;\n",
       "    }\n",
       "\n",
       "    .dataframe tbody tr th {\n",
       "        vertical-align: top;\n",
       "    }\n",
       "\n",
       "    .dataframe thead th {\n",
       "        text-align: right;\n",
       "    }\n",
       "</style>\n",
       "<table border=\"1\" class=\"dataframe\">\n",
       "  <thead>\n",
       "    <tr style=\"text-align: right;\">\n",
       "      <th></th>\n",
       "      <th>assessmentId</th>\n",
       "      <th>internalTaxonId</th>\n",
       "      <th>scientificName</th>\n",
       "      <th>redlistCategory</th>\n",
       "      <th>redlistCriteria</th>\n",
       "      <th>yearPublished</th>\n",
       "      <th>assessmentDate</th>\n",
       "      <th>criteriaVersion</th>\n",
       "      <th>language</th>\n",
       "      <th>rationale</th>\n",
       "      <th>...</th>\n",
       "      <th>populationTrend</th>\n",
       "      <th>range</th>\n",
       "      <th>useTrade</th>\n",
       "      <th>systems</th>\n",
       "      <th>conservationActions</th>\n",
       "      <th>realm</th>\n",
       "      <th>yearLastSeen</th>\n",
       "      <th>possiblyExtinct</th>\n",
       "      <th>possiblyExtinctInTheWild</th>\n",
       "      <th>scopes</th>\n",
       "    </tr>\n",
       "  </thead>\n",
       "  <tbody>\n",
       "    <tr>\n",
       "      <th>0</th>\n",
       "      <td>1494216</td>\n",
       "      <td>177600</td>\n",
       "      <td>Balaka streptostachys</td>\n",
       "      <td>Critically Endangered</td>\n",
       "      <td>C2a(i,ii)</td>\n",
       "      <td>2017</td>\n",
       "      <td>2017-05-03 00:00:00 UTC</td>\n",
       "      <td>3.1</td>\n",
       "      <td>English</td>\n",
       "      <td>This species is endemic to Fiji. Its populatio...</td>\n",
       "      <td>...</td>\n",
       "      <td>Decreasing</td>\n",
       "      <td>This species is only known from a single site ...</td>\n",
       "      <td>There is no known or recorded use.</td>\n",
       "      <td>Terrestrial</td>\n",
       "      <td>This species is not recorded in any known &lt;em&gt;...</td>\n",
       "      <td>Oceanian</td>\n",
       "      <td>NaN</td>\n",
       "      <td>False</td>\n",
       "      <td>False</td>\n",
       "      <td>Global</td>\n",
       "    </tr>\n",
       "    <tr>\n",
       "      <th>1</th>\n",
       "      <td>1494228</td>\n",
       "      <td>177602</td>\n",
       "      <td>Heterospathe phillipsii</td>\n",
       "      <td>Endangered</td>\n",
       "      <td>B1ab(i,ii,iii)+2ab(i,ii,iii)</td>\n",
       "      <td>2017</td>\n",
       "      <td>2017-05-03 00:00:00 UTC</td>\n",
       "      <td>3.1</td>\n",
       "      <td>English</td>\n",
       "      <td>This species endemic to Fiji and is known only...</td>\n",
       "      <td>...</td>\n",
       "      <td>Unknown</td>\n",
       "      <td>This species is known only from three small, r...</td>\n",
       "      <td>The palm heart is edible and the immature seed...</td>\n",
       "      <td>Terrestrial</td>\n",
       "      <td>There are three known &lt;em&gt;ex situ&lt;/em&gt; collect...</td>\n",
       "      <td>Oceanian</td>\n",
       "      <td>NaN</td>\n",
       "      <td>False</td>\n",
       "      <td>False</td>\n",
       "      <td>Global</td>\n",
       "    </tr>\n",
       "    <tr>\n",
       "      <th>2</th>\n",
       "      <td>1494234</td>\n",
       "      <td>177603</td>\n",
       "      <td>Hydriastele boumae</td>\n",
       "      <td>Least Concern</td>\n",
       "      <td>NaN</td>\n",
       "      <td>2017</td>\n",
       "      <td>2017-05-04 00:00:00 UTC</td>\n",
       "      <td>3.1</td>\n",
       "      <td>English</td>\n",
       "      <td>This species is endemic to the Island of Taveu...</td>\n",
       "      <td>...</td>\n",
       "      <td>Unknown</td>\n",
       "      <td>This is a Fiji-endemic that only occurs on the...</td>\n",
       "      <td>There is no use reported.</td>\n",
       "      <td>Terrestrial</td>\n",
       "      <td>The landowners of the Bouma community have set...</td>\n",
       "      <td>Oceanian</td>\n",
       "      <td>NaN</td>\n",
       "      <td>False</td>\n",
       "      <td>False</td>\n",
       "      <td>Global</td>\n",
       "    </tr>\n",
       "  </tbody>\n",
       "</table>\n",
       "<p>3 rows × 23 columns</p>\n",
       "</div>"
      ],
      "text/plain": [
       "   assessmentId  internalTaxonId           scientificName  \\\n",
       "0       1494216           177600    Balaka streptostachys   \n",
       "1       1494228           177602  Heterospathe phillipsii   \n",
       "2       1494234           177603       Hydriastele boumae   \n",
       "\n",
       "         redlistCategory               redlistCriteria  yearPublished  \\\n",
       "0  Critically Endangered                     C2a(i,ii)           2017   \n",
       "1             Endangered  B1ab(i,ii,iii)+2ab(i,ii,iii)           2017   \n",
       "2          Least Concern                           NaN           2017   \n",
       "\n",
       "            assessmentDate  criteriaVersion language  \\\n",
       "0  2017-05-03 00:00:00 UTC              3.1  English   \n",
       "1  2017-05-03 00:00:00 UTC              3.1  English   \n",
       "2  2017-05-04 00:00:00 UTC              3.1  English   \n",
       "\n",
       "                                           rationale  ... populationTrend  \\\n",
       "0  This species is endemic to Fiji. Its populatio...  ...      Decreasing   \n",
       "1  This species endemic to Fiji and is known only...  ...         Unknown   \n",
       "2  This species is endemic to the Island of Taveu...  ...         Unknown   \n",
       "\n",
       "                                               range  \\\n",
       "0  This species is only known from a single site ...   \n",
       "1  This species is known only from three small, r...   \n",
       "2  This is a Fiji-endemic that only occurs on the...   \n",
       "\n",
       "                                            useTrade      systems  \\\n",
       "0                 There is no known or recorded use.  Terrestrial   \n",
       "1  The palm heart is edible and the immature seed...  Terrestrial   \n",
       "2                          There is no use reported.  Terrestrial   \n",
       "\n",
       "                                 conservationActions     realm yearLastSeen  \\\n",
       "0  This species is not recorded in any known <em>...  Oceanian          NaN   \n",
       "1  There are three known <em>ex situ</em> collect...  Oceanian          NaN   \n",
       "2  The landowners of the Bouma community have set...  Oceanian          NaN   \n",
       "\n",
       "  possiblyExtinct possiblyExtinctInTheWild  scopes  \n",
       "0           False                    False  Global  \n",
       "1           False                    False  Global  \n",
       "2           False                    False  Global  \n",
       "\n",
       "[3 rows x 23 columns]"
      ]
     },
     "execution_count": 89,
     "metadata": {},
     "output_type": "execute_result"
    }
   ],
   "source": [
    "df.head(3)"
   ]
  },
  {
   "cell_type": "markdown",
   "metadata": {},
   "source": [
    "## Basic data exploration"
   ]
  },
  {
   "cell_type": "markdown",
   "metadata": {},
   "source": [
    "### Create a column with genus name"
   ]
  },
  {
   "cell_type": "code",
   "execution_count": 90,
   "metadata": {
    "scrolled": true
   },
   "outputs": [
    {
     "data": {
      "text/html": [
       "<div>\n",
       "<style scoped>\n",
       "    .dataframe tbody tr th:only-of-type {\n",
       "        vertical-align: middle;\n",
       "    }\n",
       "\n",
       "    .dataframe tbody tr th {\n",
       "        vertical-align: top;\n",
       "    }\n",
       "\n",
       "    .dataframe thead th {\n",
       "        text-align: right;\n",
       "    }\n",
       "</style>\n",
       "<table border=\"1\" class=\"dataframe\">\n",
       "  <thead>\n",
       "    <tr style=\"text-align: right;\">\n",
       "      <th></th>\n",
       "      <th>assessmentId</th>\n",
       "      <th>internalTaxonId</th>\n",
       "      <th>scientificName</th>\n",
       "      <th>redlistCategory</th>\n",
       "      <th>redlistCriteria</th>\n",
       "      <th>yearPublished</th>\n",
       "      <th>assessmentDate</th>\n",
       "      <th>criteriaVersion</th>\n",
       "      <th>language</th>\n",
       "      <th>rationale</th>\n",
       "      <th>...</th>\n",
       "      <th>useTrade</th>\n",
       "      <th>systems</th>\n",
       "      <th>conservationActions</th>\n",
       "      <th>realm</th>\n",
       "      <th>yearLastSeen</th>\n",
       "      <th>possiblyExtinct</th>\n",
       "      <th>possiblyExtinctInTheWild</th>\n",
       "      <th>scopes</th>\n",
       "      <th>Genus</th>\n",
       "      <th>epithet</th>\n",
       "    </tr>\n",
       "  </thead>\n",
       "  <tbody>\n",
       "    <tr>\n",
       "      <th>0</th>\n",
       "      <td>1494216</td>\n",
       "      <td>177600</td>\n",
       "      <td>Balaka streptostachys</td>\n",
       "      <td>Critically Endangered</td>\n",
       "      <td>C2a(i,ii)</td>\n",
       "      <td>2017</td>\n",
       "      <td>2017-05-03 00:00:00 UTC</td>\n",
       "      <td>3.1</td>\n",
       "      <td>English</td>\n",
       "      <td>This species is endemic to Fiji. Its populatio...</td>\n",
       "      <td>...</td>\n",
       "      <td>There is no known or recorded use.</td>\n",
       "      <td>Terrestrial</td>\n",
       "      <td>This species is not recorded in any known &lt;em&gt;...</td>\n",
       "      <td>Oceanian</td>\n",
       "      <td>NaN</td>\n",
       "      <td>False</td>\n",
       "      <td>False</td>\n",
       "      <td>Global</td>\n",
       "      <td>Balaka</td>\n",
       "      <td>streptostachys</td>\n",
       "    </tr>\n",
       "    <tr>\n",
       "      <th>1</th>\n",
       "      <td>1494228</td>\n",
       "      <td>177602</td>\n",
       "      <td>Heterospathe phillipsii</td>\n",
       "      <td>Endangered</td>\n",
       "      <td>B1ab(i,ii,iii)+2ab(i,ii,iii)</td>\n",
       "      <td>2017</td>\n",
       "      <td>2017-05-03 00:00:00 UTC</td>\n",
       "      <td>3.1</td>\n",
       "      <td>English</td>\n",
       "      <td>This species endemic to Fiji and is known only...</td>\n",
       "      <td>...</td>\n",
       "      <td>The palm heart is edible and the immature seed...</td>\n",
       "      <td>Terrestrial</td>\n",
       "      <td>There are three known &lt;em&gt;ex situ&lt;/em&gt; collect...</td>\n",
       "      <td>Oceanian</td>\n",
       "      <td>NaN</td>\n",
       "      <td>False</td>\n",
       "      <td>False</td>\n",
       "      <td>Global</td>\n",
       "      <td>Heterospathe</td>\n",
       "      <td>phillipsii</td>\n",
       "    </tr>\n",
       "    <tr>\n",
       "      <th>2</th>\n",
       "      <td>1494234</td>\n",
       "      <td>177603</td>\n",
       "      <td>Hydriastele boumae</td>\n",
       "      <td>Least Concern</td>\n",
       "      <td>NaN</td>\n",
       "      <td>2017</td>\n",
       "      <td>2017-05-04 00:00:00 UTC</td>\n",
       "      <td>3.1</td>\n",
       "      <td>English</td>\n",
       "      <td>This species is endemic to the Island of Taveu...</td>\n",
       "      <td>...</td>\n",
       "      <td>There is no use reported.</td>\n",
       "      <td>Terrestrial</td>\n",
       "      <td>The landowners of the Bouma community have set...</td>\n",
       "      <td>Oceanian</td>\n",
       "      <td>NaN</td>\n",
       "      <td>False</td>\n",
       "      <td>False</td>\n",
       "      <td>Global</td>\n",
       "      <td>Hydriastele</td>\n",
       "      <td>boumae</td>\n",
       "    </tr>\n",
       "  </tbody>\n",
       "</table>\n",
       "<p>3 rows × 25 columns</p>\n",
       "</div>"
      ],
      "text/plain": [
       "   assessmentId  internalTaxonId           scientificName  \\\n",
       "0       1494216           177600    Balaka streptostachys   \n",
       "1       1494228           177602  Heterospathe phillipsii   \n",
       "2       1494234           177603       Hydriastele boumae   \n",
       "\n",
       "         redlistCategory               redlistCriteria  yearPublished  \\\n",
       "0  Critically Endangered                     C2a(i,ii)           2017   \n",
       "1             Endangered  B1ab(i,ii,iii)+2ab(i,ii,iii)           2017   \n",
       "2          Least Concern                           NaN           2017   \n",
       "\n",
       "            assessmentDate  criteriaVersion language  \\\n",
       "0  2017-05-03 00:00:00 UTC              3.1  English   \n",
       "1  2017-05-03 00:00:00 UTC              3.1  English   \n",
       "2  2017-05-04 00:00:00 UTC              3.1  English   \n",
       "\n",
       "                                           rationale  ...  \\\n",
       "0  This species is endemic to Fiji. Its populatio...  ...   \n",
       "1  This species endemic to Fiji and is known only...  ...   \n",
       "2  This species is endemic to the Island of Taveu...  ...   \n",
       "\n",
       "                                            useTrade      systems  \\\n",
       "0                 There is no known or recorded use.  Terrestrial   \n",
       "1  The palm heart is edible and the immature seed...  Terrestrial   \n",
       "2                          There is no use reported.  Terrestrial   \n",
       "\n",
       "                                 conservationActions     realm yearLastSeen  \\\n",
       "0  This species is not recorded in any known <em>...  Oceanian          NaN   \n",
       "1  There are three known <em>ex situ</em> collect...  Oceanian          NaN   \n",
       "2  The landowners of the Bouma community have set...  Oceanian          NaN   \n",
       "\n",
       "  possiblyExtinct possiblyExtinctInTheWild  scopes         Genus  \\\n",
       "0           False                    False  Global        Balaka   \n",
       "1           False                    False  Global  Heterospathe   \n",
       "2           False                    False  Global   Hydriastele   \n",
       "\n",
       "          epithet  \n",
       "0  streptostachys  \n",
       "1      phillipsii  \n",
       "2          boumae  \n",
       "\n",
       "[3 rows x 25 columns]"
      ]
     },
     "execution_count": 90,
     "metadata": {},
     "output_type": "execute_result"
    }
   ],
   "source": [
    "df[['Genus', 'epithet']] = df['scientificName'].str.split(' ', 1, expand=True)\n",
    "df.head(3)"
   ]
  },
  {
   "cell_type": "markdown",
   "metadata": {},
   "source": [
    "### Get number of species assessed"
   ]
  },
  {
   "cell_type": "code",
   "execution_count": 91,
   "metadata": {
    "scrolled": true
   },
   "outputs": [
    {
     "name": "stdout",
     "output_type": "stream",
     "text": [
      "The total number of palm species assessed: 592 ; and the number of genera is: 108\n"
     ]
    }
   ],
   "source": [
    "print('The total number of palm species assessed:',len(df.index), '; and the number of genera is:', len(pd.unique(df['Genus'])))"
   ]
  },
  {
   "cell_type": "markdown",
   "metadata": {},
   "source": [
    "### List of species assessed"
   ]
  },
  {
   "cell_type": "code",
   "execution_count": 92,
   "metadata": {},
   "outputs": [],
   "source": [
    "sp = pd.unique(df['scientificName'])\n",
    "#sp"
   ]
  },
  {
   "cell_type": "markdown",
   "metadata": {},
   "source": [
    "### Min and Max year of assessements"
   ]
  },
  {
   "cell_type": "code",
   "execution_count": 155,
   "metadata": {},
   "outputs": [
    {
     "name": "stdout",
     "output_type": "stream",
     "text": [
      "The oldest assessements are from: 2003 ; and the youngests are from: 2021\n"
     ]
    }
   ],
   "source": [
    "yr = df[\"yearPublished\"]\n",
    "\n",
    "print('The oldest assessements are from:', yr.min(), '; and the youngests are from:', yr.max())"
   ]
  },
  {
   "cell_type": "markdown",
   "metadata": {},
   "source": [
    "## Count number of species in different threat categories and generate a pie chart"
   ]
  },
  {
   "cell_type": "code",
   "execution_count": 95,
   "metadata": {
    "scrolled": true
   },
   "outputs": [
    {
     "data": {
      "text/html": [
       "<div>\n",
       "<style scoped>\n",
       "    .dataframe tbody tr th:only-of-type {\n",
       "        vertical-align: middle;\n",
       "    }\n",
       "\n",
       "    .dataframe tbody tr th {\n",
       "        vertical-align: top;\n",
       "    }\n",
       "\n",
       "    .dataframe thead th {\n",
       "        text-align: right;\n",
       "    }\n",
       "</style>\n",
       "<table border=\"1\" class=\"dataframe\">\n",
       "  <thead>\n",
       "    <tr style=\"text-align: right;\">\n",
       "      <th></th>\n",
       "      <th>redlistCategory</th>\n",
       "    </tr>\n",
       "  </thead>\n",
       "  <tbody>\n",
       "    <tr>\n",
       "      <th>Least Concern</th>\n",
       "      <td>201</td>\n",
       "    </tr>\n",
       "    <tr>\n",
       "      <th>Critically Endangered</th>\n",
       "      <td>112</td>\n",
       "    </tr>\n",
       "    <tr>\n",
       "      <th>Endangered</th>\n",
       "      <td>110</td>\n",
       "    </tr>\n",
       "    <tr>\n",
       "      <th>Vulnerable</th>\n",
       "      <td>77</td>\n",
       "    </tr>\n",
       "    <tr>\n",
       "      <th>Data Deficient</th>\n",
       "      <td>47</td>\n",
       "    </tr>\n",
       "    <tr>\n",
       "      <th>Near Threatened</th>\n",
       "      <td>44</td>\n",
       "    </tr>\n",
       "    <tr>\n",
       "      <th>Extinct</th>\n",
       "      <td>1</td>\n",
       "    </tr>\n",
       "  </tbody>\n",
       "</table>\n",
       "</div>"
      ],
      "text/plain": [
       "                       redlistCategory\n",
       "Least Concern                      201\n",
       "Critically Endangered              112\n",
       "Endangered                         110\n",
       "Vulnerable                          77\n",
       "Data Deficient                      47\n",
       "Near Threatened                     44\n",
       "Extinct                              1"
      ]
     },
     "execution_count": 95,
     "metadata": {},
     "output_type": "execute_result"
    }
   ],
   "source": [
    "red = df['redlistCategory'].value_counts() #this returns a series\n",
    "red_df = red.to_frame() #covert to a dataframe\n",
    "red_df"
   ]
  },
  {
   "cell_type": "code",
   "execution_count": 154,
   "metadata": {
    "scrolled": false
   },
   "outputs": [
    {
     "data": {
      "image/png": "[encoded data removed]",
      "text/plain": [
       "<Figure size 432x288 with 1 Axes>"
      ]
     },
     "metadata": {},
     "output_type": "display_data"
    }
   ],
   "source": [
    "#pie chart\n",
    "\n",
    "#get labels\n",
    "rdcat = red_df[\"redlistCategory\"]\n",
    "\n",
    "index = red_df.index\n",
    "labels = list(index)\n",
    "\n",
    "# distance between pies if needed, used with \"explode=explode\" in script below\n",
    "explode = (0.05, 0.05, 0.05, 0.05, 0.05, 0.05, 0.05)  # only \"explode\" the 1st slice (i.e. 'Least Concern')\n",
    "\n",
    "#get sizes\n",
    "\n",
    "sizes = red_df[\"redlistCategory\"]\n",
    "\n",
    "# pie colors from IUCN: https://www.withoutnations.com/portfolio/iucn-red-list/; order as in dataframe\n",
    "colors = ['#006612','#860A00','#DA2A1C', '#EAA548', '#D6D6D6', '#15A72F', '#FFFFFF']\n",
    "\n",
    "#pie plot script; we can change the position of labels \n",
    "#(both outer and percent labels) by modifying labeldistance(defaul:1) and pctdistance(default:0.6); textprops give the text white color\n",
    "\n",
    "fig1, ax1 = plt.subplots()\n",
    "ax1.pie(sizes, explode=explode, labels=labels, autopct='%1.1f%%', colors=colors,\n",
    "        shadow=False, startangle=180, textprops={'color':\"w\", 'weight':'bold'})\n",
    "ax1.axis('equal')  # Equal aspect ratio ensures that pie is drawn as a circle.\n",
    "\n",
    "#draw a black circle in the middle\n",
    "centre_circle = plt.Circle((0,0),0.80,fc='black')\n",
    "fig = plt.gcf()\n",
    "\n",
    "#define background color of fig space\n",
    "fig.patch.set_facecolor('black')\n",
    "fig.gca().add_artist(centre_circle)\n",
    "\n",
    "# print and view chart\n",
    "plt.tight_layout()\n",
    "#plt.show()\n",
    "plt.savefig('pie_palms.png', bbox_inches='tight', dpi=500)"
   ]
  },
  {
   "cell_type": "markdown",
   "metadata": {},
   "source": [
    "## Stacked bar plot per realm / threat"
   ]
  },
  {
   "cell_type": "code",
   "execution_count": 262,
   "metadata": {
    "scrolled": true
   },
   "outputs": [],
   "source": [
    "# oupby bot values and ten size to count total for eac cat; ere we group by realm and count total per redlistcateory\n",
    "gkk = df.groupby(['realm', 'redlistCategory']).size()\n",
    "#gkk"
   ]
  },
  {
   "cell_type": "code",
   "execution_count": 292,
   "metadata": {},
   "outputs": [
    {
     "data": {
      "text/html": [
       "<div>\n",
       "<style scoped>\n",
       "    .dataframe tbody tr th:only-of-type {\n",
       "        vertical-align: middle;\n",
       "    }\n",
       "\n",
       "    .dataframe tbody tr th {\n",
       "        vertical-align: top;\n",
       "    }\n",
       "\n",
       "    .dataframe thead th {\n",
       "        text-align: right;\n",
       "    }\n",
       "</style>\n",
       "<table border=\"1\" class=\"dataframe\">\n",
       "  <thead>\n",
       "    <tr style=\"text-align: right;\">\n",
       "      <th>redlistCategory</th>\n",
       "      <th>Critically Endangered</th>\n",
       "      <th>Data Deficient</th>\n",
       "      <th>Endangered</th>\n",
       "      <th>Extinct</th>\n",
       "      <th>Least Concern</th>\n",
       "      <th>Near Threatened</th>\n",
       "      <th>Vulnerable</th>\n",
       "      <th>Threatened</th>\n",
       "      <th>Not threatened</th>\n",
       "    </tr>\n",
       "    <tr>\n",
       "      <th>realm</th>\n",
       "      <th></th>\n",
       "      <th></th>\n",
       "      <th></th>\n",
       "      <th></th>\n",
       "      <th></th>\n",
       "      <th></th>\n",
       "      <th></th>\n",
       "      <th></th>\n",
       "      <th></th>\n",
       "    </tr>\n",
       "  </thead>\n",
       "  <tbody>\n",
       "    <tr>\n",
       "      <th>Afrotropical</th>\n",
       "      <td>67.0</td>\n",
       "      <td>22.0</td>\n",
       "      <td>48.0</td>\n",
       "      <td>0.0</td>\n",
       "      <td>62.0</td>\n",
       "      <td>18.0</td>\n",
       "      <td>45.0</td>\n",
       "      <td>160.0</td>\n",
       "      <td>102.0</td>\n",
       "    </tr>\n",
       "    <tr>\n",
       "      <th>Australasian</th>\n",
       "      <td>5.0</td>\n",
       "      <td>17.0</td>\n",
       "      <td>14.0</td>\n",
       "      <td>0.0</td>\n",
       "      <td>43.0</td>\n",
       "      <td>9.0</td>\n",
       "      <td>3.0</td>\n",
       "      <td>22.0</td>\n",
       "      <td>69.0</td>\n",
       "    </tr>\n",
       "    <tr>\n",
       "      <th>Indomalayan</th>\n",
       "      <td>14.0</td>\n",
       "      <td>6.0</td>\n",
       "      <td>12.0</td>\n",
       "      <td>0.0</td>\n",
       "      <td>20.0</td>\n",
       "      <td>8.0</td>\n",
       "      <td>5.0</td>\n",
       "      <td>31.0</td>\n",
       "      <td>34.0</td>\n",
       "    </tr>\n",
       "    <tr>\n",
       "      <th>Nearctic</th>\n",
       "      <td>0.0</td>\n",
       "      <td>0.0</td>\n",
       "      <td>0.0</td>\n",
       "      <td>0.0</td>\n",
       "      <td>4.0</td>\n",
       "      <td>0.0</td>\n",
       "      <td>1.0</td>\n",
       "      <td>1.0</td>\n",
       "      <td>4.0</td>\n",
       "    </tr>\n",
       "    <tr>\n",
       "      <th>Neotropical</th>\n",
       "      <td>10.0</td>\n",
       "      <td>1.0</td>\n",
       "      <td>22.0</td>\n",
       "      <td>1.0</td>\n",
       "      <td>44.0</td>\n",
       "      <td>7.0</td>\n",
       "      <td>16.0</td>\n",
       "      <td>49.0</td>\n",
       "      <td>52.0</td>\n",
       "    </tr>\n",
       "    <tr>\n",
       "      <th>Oceanian</th>\n",
       "      <td>13.0</td>\n",
       "      <td>1.0</td>\n",
       "      <td>10.0</td>\n",
       "      <td>0.0</td>\n",
       "      <td>8.0</td>\n",
       "      <td>2.0</td>\n",
       "      <td>3.0</td>\n",
       "      <td>26.0</td>\n",
       "      <td>11.0</td>\n",
       "    </tr>\n",
       "    <tr>\n",
       "      <th>Palearctic</th>\n",
       "      <td>3.0</td>\n",
       "      <td>0.0</td>\n",
       "      <td>4.0</td>\n",
       "      <td>0.0</td>\n",
       "      <td>2.0</td>\n",
       "      <td>0.0</td>\n",
       "      <td>2.0</td>\n",
       "      <td>9.0</td>\n",
       "      <td>2.0</td>\n",
       "    </tr>\n",
       "  </tbody>\n",
       "</table>\n",
       "</div>"
      ],
      "text/plain": [
       "redlistCategory  Critically Endangered  Data Deficient  Endangered  Extinct  \\\n",
       "realm                                                                         \n",
       "Afrotropical                      67.0            22.0        48.0      0.0   \n",
       "Australasian                       5.0            17.0        14.0      0.0   \n",
       "Indomalayan                       14.0             6.0        12.0      0.0   \n",
       "Nearctic                           0.0             0.0         0.0      0.0   \n",
       "Neotropical                       10.0             1.0        22.0      1.0   \n",
       "Oceanian                          13.0             1.0        10.0      0.0   \n",
       "Palearctic                         3.0             0.0         4.0      0.0   \n",
       "\n",
       "redlistCategory  Least Concern  Near Threatened  Vulnerable  Threatened  \\\n",
       "realm                                                                     \n",
       "Afrotropical              62.0             18.0        45.0       160.0   \n",
       "Australasian              43.0              9.0         3.0        22.0   \n",
       "Indomalayan               20.0              8.0         5.0        31.0   \n",
       "Nearctic                   4.0              0.0         1.0         1.0   \n",
       "Neotropical               44.0              7.0        16.0        49.0   \n",
       "Oceanian                   8.0              2.0         3.0        26.0   \n",
       "Palearctic                 2.0              0.0         2.0         9.0   \n",
       "\n",
       "redlistCategory  Not threatened  \n",
       "realm                            \n",
       "Afrotropical              102.0  \n",
       "Australasian               69.0  \n",
       "Indomalayan                34.0  \n",
       "Nearctic                    4.0  \n",
       "Neotropical                52.0  \n",
       "Oceanian                   11.0  \n",
       "Palearctic                  2.0  "
      ]
     },
     "execution_count": 292,
     "metadata": {},
     "output_type": "execute_result"
    }
   ],
   "source": [
    "#get values of number of threats per realm and generate an unstacked dataframe\n",
    "RL = df.groupby(['realm', 'redlistCategory']).size().unstack()\n",
    "\n",
    "#so of the values will ne NaN and create an error later on, fillna allows us to fill in the NaN with 0\n",
    "RL = RL.fillna(0)\n",
    "\n",
    "#transforme values into % and ound off to entire number\n",
    "#RL = stacked_data = RL.apply(lambda x: x*100/sum(x), axis=1)\n",
    "#RL = RL.round(decimals=0)\n",
    "\n",
    "#merge threatened categoris together and not threatened\n",
    "\n",
    "RL['Threatened'] = RL['Critically Endangered'] + RL['Endangered'] + RL['Vulnerable'] + RL['Extinct']\n",
    "RL['Not threatened'] = RL['Least Concern'] + RL['Near Threatened'] + RL['Data Deficient']\n",
    "\n",
    "#we shall drop multiple realms\n",
    "RL = RL.drop(['Australasian|Indomalayan', 'Australasian|Indomalayan|Oceanian', 'Indomalayan|Palearctic', 'Nearctic|Neotropical', 'Afrotropical|Neotropical'])\n",
    "\n",
    "RL"
   ]
  },
  {
   "cell_type": "markdown",
   "metadata": {},
   "source": [
    "### Bar plot"
   ]
  },
  {
   "cell_type": "code",
   "execution_count": 343,
   "metadata": {},
   "outputs": [
    {
     "data": {
      "image/png": "[encoded data removed]",
      "text/plain": [
       "<Figure size 432x288 with 1 Axes>"
      ]
     },
     "metadata": {},
     "output_type": "display_data"
    }
   ],
   "source": [
    "#colors: colors = ['#DA2A1C','#006612']\n",
    "#control colors etc with the different parameters\n",
    "\n",
    "#define values\n",
    "realm  = list(RL.index)\n",
    "Threatened = RL[\"Threatened\"]\n",
    "Not_threatened = RL[\"Not threatened\"]\n",
    "width = 0.8\n",
    "\n",
    "fig, ax = plt.subplots()\n",
    "\n",
    "ax.bar(realm, Threatened, width,label='Threatened', color='#DA2A1C')\n",
    "ax.bar(realm, Not_threatened, width, bottom=Threatened, label='Not threatened', color='#006612')\n",
    "\n",
    "#define background color of fig space\n",
    "fig.patch.set_facecolor('black')\n",
    "ax.set_facecolor(\"black\")\n",
    "\n",
    "#set specific values for ax\n",
    "ax.set_ylabel('Number of species', color='w')\n",
    "ax.set_xlabel('Realm', color='w')\n",
    "ax.set_title('Threatened species per realm', color='w')\n",
    "\n",
    "#set label colors and ticks to white\n",
    "ax.xaxis.label.set_color('white')\n",
    "ax.yaxis.label.set_color('white')\n",
    "ax.tick_params(axis='x', colors='white')\n",
    "ax.tick_params(axis='y', colors='white')\n",
    "\n",
    "ax.spines[\"left\"].set_color(\"white\")\n",
    "ax.spines[\"bottom\"].set_color(\"white\")\n",
    "\n",
    "ax.legend()\n",
    "\n",
    "#change rotation of x labels:\n",
    "plt.xticks(rotation=45)\n",
    "\n",
    "#plt.show()\n",
    "plt.savefig('threat.png', bbox_inches='tight', dpi=500)"
   ]
  },
  {
   "cell_type": "code",
   "execution_count": null,
   "metadata": {},
   "outputs": [],
   "source": [
    "# alternative way, less options\n",
    "\n",
    "# colors from IUCN: https://www.withoutnations.com/portfolio/iucn-red-list/; order as in dataframe\n",
    "colors = ['#DA2A1C','#006612']\n",
    "#width = 0.35\n",
    "\n",
    "RL[['Threatened','Not threatened']].plot(kind='bar', stacked=True, color=colors, width=0.9, ylabel='Number of species')\n",
    "\n",
    "plt.savefig('threat.png', bbox_inches='tight', dpi=500, facecolor = 'white')"
   ]
  },
  {
   "cell_type": "markdown",
   "metadata": {},
   "source": [
    "## Import gbif data of palms and clean"
   ]
  },
  {
   "cell_type": "markdown",
   "metadata": {},
   "source": [
    "### Import csv of palm distribution data"
   ]
  },
  {
   "cell_type": "code",
   "execution_count": null,
   "metadata": {},
   "outputs": [],
   "source": [
    "#pip install psycopg2 #to use postres SQL "
   ]
  },
  {
   "cell_type": "code",
   "execution_count": 120,
   "metadata": {},
   "outputs": [],
   "source": [
    "myfile2 = 'palms_gbif_25052021.csv'\n",
    "doc2 = codecs.open(myfile2,'rU','UTF-8') #open for reading with \"universal\" type set\n",
    "ds = pd.read_csv(doc2, sep='\\t')"
   ]
  },
  {
   "cell_type": "code",
   "execution_count": 18,
   "metadata": {},
   "outputs": [],
   "source": [
    "#list(ds.columns)"
   ]
  },
  {
   "cell_type": "markdown",
   "metadata": {},
   "source": [
    "### Different cleaning steps"
   ]
  },
  {
   "cell_type": "code",
   "execution_count": 122,
   "metadata": {
    "scrolled": true
   },
   "outputs": [
    {
     "data": {
      "text/html": [
       "<div>\n",
       "<style scoped>\n",
       "    .dataframe tbody tr th:only-of-type {\n",
       "        vertical-align: middle;\n",
       "    }\n",
       "\n",
       "    .dataframe tbody tr th {\n",
       "        vertical-align: top;\n",
       "    }\n",
       "\n",
       "    .dataframe thead th {\n",
       "        text-align: right;\n",
       "    }\n",
       "</style>\n",
       "<table border=\"1\" class=\"dataframe\">\n",
       "  <thead>\n",
       "    <tr style=\"text-align: right;\">\n",
       "      <th></th>\n",
       "      <th>gbifID</th>\n",
       "      <th>occurrenceID</th>\n",
       "      <th>genus</th>\n",
       "      <th>species</th>\n",
       "      <th>infraspecificEpithet</th>\n",
       "      <th>taxonRank</th>\n",
       "      <th>scientificName</th>\n",
       "      <th>verbatimScientificName</th>\n",
       "      <th>verbatimScientificNameAuthorship</th>\n",
       "      <th>countryCode</th>\n",
       "      <th>...</th>\n",
       "      <th>year</th>\n",
       "      <th>taxonKey</th>\n",
       "      <th>speciesKey</th>\n",
       "      <th>institutionCode</th>\n",
       "      <th>collectionCode</th>\n",
       "      <th>catalogNumber</th>\n",
       "      <th>recordNumber</th>\n",
       "      <th>identifiedBy</th>\n",
       "      <th>dateIdentified</th>\n",
       "      <th>recordedBy</th>\n",
       "    </tr>\n",
       "  </thead>\n",
       "  <tbody>\n",
       "    <tr>\n",
       "      <th>0</th>\n",
       "      <td>1638731776</td>\n",
       "      <td>WCSColombia:2015_PNN_SSL:PlantasOC:1234</td>\n",
       "      <td>Geonoma</td>\n",
       "      <td>Geonoma stricta</td>\n",
       "      <td>NaN</td>\n",
       "      <td>SPECIES</td>\n",
       "      <td>Geonoma stricta (Poit.) Kunth</td>\n",
       "      <td>Geonoma stricta (Poit.) Kunth</td>\n",
       "      <td>(Poit.) Kunth</td>\n",
       "      <td>CO</td>\n",
       "      <td>...</td>\n",
       "      <td>2015.0</td>\n",
       "      <td>2734102</td>\n",
       "      <td>2734102.0</td>\n",
       "      <td>WCS Colombia</td>\n",
       "      <td>JAUM</td>\n",
       "      <td>TJP: 1234</td>\n",
       "      <td>PlantasOC:1234</td>\n",
       "      <td>Juan Pablo Tobón</td>\n",
       "      <td>2015-05-02T00:00:00</td>\n",
       "      <td>Juan Pablo Tobón</td>\n",
       "    </tr>\n",
       "    <tr>\n",
       "      <th>1</th>\n",
       "      <td>1638731823</td>\n",
       "      <td>WCSColombia:2015_PNN_SSL:PlantasC1800:0239</td>\n",
       "      <td>Geonoma</td>\n",
       "      <td>Geonoma chlamydostachys</td>\n",
       "      <td>NaN</td>\n",
       "      <td>SPECIES</td>\n",
       "      <td>Geonoma chlamydostachys Galeano</td>\n",
       "      <td>Geonoma chlamydostachys Galeano</td>\n",
       "      <td>Galeano</td>\n",
       "      <td>CO</td>\n",
       "      <td>...</td>\n",
       "      <td>2015.0</td>\n",
       "      <td>2734322</td>\n",
       "      <td>2734322.0</td>\n",
       "      <td>WCS Colombia</td>\n",
       "      <td>TOLI</td>\n",
       "      <td>239</td>\n",
       "      <td>PlantasC1800:0239</td>\n",
       "      <td>Boris Villanueva</td>\n",
       "      <td>2015-07-24T00:00:00</td>\n",
       "      <td>Boris Villanueva</td>\n",
       "    </tr>\n",
       "    <tr>\n",
       "      <th>2</th>\n",
       "      <td>1638731820</td>\n",
       "      <td>WCSColombia:2015_PNN_SSL:PlantasOC:1226</td>\n",
       "      <td>Phytelephas</td>\n",
       "      <td>Phytelephas macrocarpa</td>\n",
       "      <td>NaN</td>\n",
       "      <td>SPECIES</td>\n",
       "      <td>Phytelephas macrocarpa Ruiz &amp; Pav.</td>\n",
       "      <td>Phytelephas macrocarpa Ruiz &amp; Pav.</td>\n",
       "      <td>Ruiz &amp; Pav.</td>\n",
       "      <td>CO</td>\n",
       "      <td>...</td>\n",
       "      <td>2015.0</td>\n",
       "      <td>2736300</td>\n",
       "      <td>2736300.0</td>\n",
       "      <td>WCS Colombia</td>\n",
       "      <td>JAUM</td>\n",
       "      <td>TJP: 1226</td>\n",
       "      <td>PlantasOC:1226</td>\n",
       "      <td>Juan Pablo Tobón</td>\n",
       "      <td>2015-05-02T00:00:00</td>\n",
       "      <td>Juan Pablo Tobón</td>\n",
       "    </tr>\n",
       "    <tr>\n",
       "      <th>3</th>\n",
       "      <td>1638731817</td>\n",
       "      <td>WCSColombia:2015_PNN_SSL:PlantasOC:1201</td>\n",
       "      <td>Attalea</td>\n",
       "      <td>Attalea nucifera</td>\n",
       "      <td>NaN</td>\n",
       "      <td>SPECIES</td>\n",
       "      <td>Attalea nucifera H.Karst.</td>\n",
       "      <td>Attalea nucifera H. Karst.</td>\n",
       "      <td>H. Karst.</td>\n",
       "      <td>CO</td>\n",
       "      <td>...</td>\n",
       "      <td>2015.0</td>\n",
       "      <td>2732819</td>\n",
       "      <td>2732819.0</td>\n",
       "      <td>WCS Colombia</td>\n",
       "      <td>JAUM</td>\n",
       "      <td>TJP: 1201</td>\n",
       "      <td>PlantasOC:1201</td>\n",
       "      <td>Juan Pablo Tobón</td>\n",
       "      <td>2015-05-02T00:00:00</td>\n",
       "      <td>Juan Pablo Tobón</td>\n",
       "    </tr>\n",
       "    <tr>\n",
       "      <th>4</th>\n",
       "      <td>1638731870</td>\n",
       "      <td>WCSColombia:2015_PNN_SSL:PlantasOC:1280</td>\n",
       "      <td>Bactris</td>\n",
       "      <td>Bactris pilosa</td>\n",
       "      <td>NaN</td>\n",
       "      <td>SPECIES</td>\n",
       "      <td>Bactris pilosa H.Karst.</td>\n",
       "      <td>Bactris pilosa H. Karst.</td>\n",
       "      <td>H. Karst.</td>\n",
       "      <td>CO</td>\n",
       "      <td>...</td>\n",
       "      <td>2015.0</td>\n",
       "      <td>2733324</td>\n",
       "      <td>2733324.0</td>\n",
       "      <td>WCS Colombia</td>\n",
       "      <td>JAUM</td>\n",
       "      <td>TJP: 1280</td>\n",
       "      <td>PlantasOC:1280</td>\n",
       "      <td>Juan Pablo Tobón</td>\n",
       "      <td>2015-05-02T00:00:00</td>\n",
       "      <td>Juan Pablo Tobón</td>\n",
       "    </tr>\n",
       "  </tbody>\n",
       "</table>\n",
       "<p>5 rows × 29 columns</p>\n",
       "</div>"
      ],
      "text/plain": [
       "       gbifID                                occurrenceID        genus  \\\n",
       "0  1638731776     WCSColombia:2015_PNN_SSL:PlantasOC:1234      Geonoma   \n",
       "1  1638731823  WCSColombia:2015_PNN_SSL:PlantasC1800:0239      Geonoma   \n",
       "2  1638731820     WCSColombia:2015_PNN_SSL:PlantasOC:1226  Phytelephas   \n",
       "3  1638731817     WCSColombia:2015_PNN_SSL:PlantasOC:1201      Attalea   \n",
       "4  1638731870     WCSColombia:2015_PNN_SSL:PlantasOC:1280      Bactris   \n",
       "\n",
       "                   species infraspecificEpithet taxonRank  \\\n",
       "0          Geonoma stricta                  NaN   SPECIES   \n",
       "1  Geonoma chlamydostachys                  NaN   SPECIES   \n",
       "2   Phytelephas macrocarpa                  NaN   SPECIES   \n",
       "3         Attalea nucifera                  NaN   SPECIES   \n",
       "4           Bactris pilosa                  NaN   SPECIES   \n",
       "\n",
       "                       scientificName              verbatimScientificName  \\\n",
       "0       Geonoma stricta (Poit.) Kunth       Geonoma stricta (Poit.) Kunth   \n",
       "1     Geonoma chlamydostachys Galeano     Geonoma chlamydostachys Galeano   \n",
       "2  Phytelephas macrocarpa Ruiz & Pav.  Phytelephas macrocarpa Ruiz & Pav.   \n",
       "3           Attalea nucifera H.Karst.          Attalea nucifera H. Karst.   \n",
       "4             Bactris pilosa H.Karst.            Bactris pilosa H. Karst.   \n",
       "\n",
       "  verbatimScientificNameAuthorship countryCode  ...    year taxonKey  \\\n",
       "0                    (Poit.) Kunth          CO  ...  2015.0  2734102   \n",
       "1                          Galeano          CO  ...  2015.0  2734322   \n",
       "2                      Ruiz & Pav.          CO  ...  2015.0  2736300   \n",
       "3                        H. Karst.          CO  ...  2015.0  2732819   \n",
       "4                        H. Karst.          CO  ...  2015.0  2733324   \n",
       "\n",
       "  speciesKey  institutionCode  collectionCode  catalogNumber  \\\n",
       "0  2734102.0     WCS Colombia            JAUM      TJP: 1234   \n",
       "1  2734322.0     WCS Colombia            TOLI            239   \n",
       "2  2736300.0     WCS Colombia            JAUM      TJP: 1226   \n",
       "3  2732819.0     WCS Colombia            JAUM      TJP: 1201   \n",
       "4  2733324.0     WCS Colombia            JAUM      TJP: 1280   \n",
       "\n",
       "        recordNumber      identifiedBy       dateIdentified        recordedBy  \n",
       "0     PlantasOC:1234  Juan Pablo Tobón  2015-05-02T00:00:00  Juan Pablo Tobón  \n",
       "1  PlantasC1800:0239  Boris Villanueva  2015-07-24T00:00:00  Boris Villanueva  \n",
       "2     PlantasOC:1226  Juan Pablo Tobón  2015-05-02T00:00:00  Juan Pablo Tobón  \n",
       "3     PlantasOC:1201  Juan Pablo Tobón  2015-05-02T00:00:00  Juan Pablo Tobón  \n",
       "4     PlantasOC:1280  Juan Pablo Tobón  2015-05-02T00:00:00  Juan Pablo Tobón  \n",
       "\n",
       "[5 rows x 29 columns]"
      ]
     },
     "execution_count": 122,
     "metadata": {},
     "output_type": "execute_result"
    }
   ],
   "source": [
    "#delete none essential columns\n",
    "ds2 = ds.drop(ds.columns[[1,3,4,5,6,7,19,20,23,24,26,27,28,35,42,43,45,46,47,48,49]], axis=1)\n",
    "ds2.head(5)"
   ]
  },
  {
   "cell_type": "markdown",
   "metadata": {},
   "source": [
    "#### Select rows identified to species level only"
   ]
  },
  {
   "cell_type": "code",
   "execution_count": 123,
   "metadata": {},
   "outputs": [
    {
     "data": {
      "text/html": [
       "<div>\n",
       "<style scoped>\n",
       "    .dataframe tbody tr th:only-of-type {\n",
       "        vertical-align: middle;\n",
       "    }\n",
       "\n",
       "    .dataframe tbody tr th {\n",
       "        vertical-align: top;\n",
       "    }\n",
       "\n",
       "    .dataframe thead th {\n",
       "        text-align: right;\n",
       "    }\n",
       "</style>\n",
       "<table border=\"1\" class=\"dataframe\">\n",
       "  <thead>\n",
       "    <tr style=\"text-align: right;\">\n",
       "      <th></th>\n",
       "      <th>gbifID</th>\n",
       "      <th>occurrenceID</th>\n",
       "      <th>genus</th>\n",
       "      <th>species</th>\n",
       "      <th>infraspecificEpithet</th>\n",
       "      <th>taxonRank</th>\n",
       "      <th>scientificName</th>\n",
       "      <th>verbatimScientificName</th>\n",
       "      <th>verbatimScientificNameAuthorship</th>\n",
       "      <th>countryCode</th>\n",
       "      <th>...</th>\n",
       "      <th>year</th>\n",
       "      <th>taxonKey</th>\n",
       "      <th>speciesKey</th>\n",
       "      <th>institutionCode</th>\n",
       "      <th>collectionCode</th>\n",
       "      <th>catalogNumber</th>\n",
       "      <th>recordNumber</th>\n",
       "      <th>identifiedBy</th>\n",
       "      <th>dateIdentified</th>\n",
       "      <th>recordedBy</th>\n",
       "    </tr>\n",
       "  </thead>\n",
       "  <tbody>\n",
       "    <tr>\n",
       "      <th>0</th>\n",
       "      <td>1638731776</td>\n",
       "      <td>WCSColombia:2015_PNN_SSL:PlantasOC:1234</td>\n",
       "      <td>Geonoma</td>\n",
       "      <td>Geonoma stricta</td>\n",
       "      <td>NaN</td>\n",
       "      <td>SPECIES</td>\n",
       "      <td>Geonoma stricta (Poit.) Kunth</td>\n",
       "      <td>Geonoma stricta (Poit.) Kunth</td>\n",
       "      <td>(Poit.) Kunth</td>\n",
       "      <td>CO</td>\n",
       "      <td>...</td>\n",
       "      <td>2015.0</td>\n",
       "      <td>2734102</td>\n",
       "      <td>2734102.0</td>\n",
       "      <td>WCS Colombia</td>\n",
       "      <td>JAUM</td>\n",
       "      <td>TJP: 1234</td>\n",
       "      <td>PlantasOC:1234</td>\n",
       "      <td>Juan Pablo Tobón</td>\n",
       "      <td>2015-05-02T00:00:00</td>\n",
       "      <td>Juan Pablo Tobón</td>\n",
       "    </tr>\n",
       "    <tr>\n",
       "      <th>1</th>\n",
       "      <td>1638731823</td>\n",
       "      <td>WCSColombia:2015_PNN_SSL:PlantasC1800:0239</td>\n",
       "      <td>Geonoma</td>\n",
       "      <td>Geonoma chlamydostachys</td>\n",
       "      <td>NaN</td>\n",
       "      <td>SPECIES</td>\n",
       "      <td>Geonoma chlamydostachys Galeano</td>\n",
       "      <td>Geonoma chlamydostachys Galeano</td>\n",
       "      <td>Galeano</td>\n",
       "      <td>CO</td>\n",
       "      <td>...</td>\n",
       "      <td>2015.0</td>\n",
       "      <td>2734322</td>\n",
       "      <td>2734322.0</td>\n",
       "      <td>WCS Colombia</td>\n",
       "      <td>TOLI</td>\n",
       "      <td>239</td>\n",
       "      <td>PlantasC1800:0239</td>\n",
       "      <td>Boris Villanueva</td>\n",
       "      <td>2015-07-24T00:00:00</td>\n",
       "      <td>Boris Villanueva</td>\n",
       "    </tr>\n",
       "    <tr>\n",
       "      <th>2</th>\n",
       "      <td>1638731820</td>\n",
       "      <td>WCSColombia:2015_PNN_SSL:PlantasOC:1226</td>\n",
       "      <td>Phytelephas</td>\n",
       "      <td>Phytelephas macrocarpa</td>\n",
       "      <td>NaN</td>\n",
       "      <td>SPECIES</td>\n",
       "      <td>Phytelephas macrocarpa Ruiz &amp; Pav.</td>\n",
       "      <td>Phytelephas macrocarpa Ruiz &amp; Pav.</td>\n",
       "      <td>Ruiz &amp; Pav.</td>\n",
       "      <td>CO</td>\n",
       "      <td>...</td>\n",
       "      <td>2015.0</td>\n",
       "      <td>2736300</td>\n",
       "      <td>2736300.0</td>\n",
       "      <td>WCS Colombia</td>\n",
       "      <td>JAUM</td>\n",
       "      <td>TJP: 1226</td>\n",
       "      <td>PlantasOC:1226</td>\n",
       "      <td>Juan Pablo Tobón</td>\n",
       "      <td>2015-05-02T00:00:00</td>\n",
       "      <td>Juan Pablo Tobón</td>\n",
       "    </tr>\n",
       "    <tr>\n",
       "      <th>3</th>\n",
       "      <td>1638731817</td>\n",
       "      <td>WCSColombia:2015_PNN_SSL:PlantasOC:1201</td>\n",
       "      <td>Attalea</td>\n",
       "      <td>Attalea nucifera</td>\n",
       "      <td>NaN</td>\n",
       "      <td>SPECIES</td>\n",
       "      <td>Attalea nucifera H.Karst.</td>\n",
       "      <td>Attalea nucifera H. Karst.</td>\n",
       "      <td>H. Karst.</td>\n",
       "      <td>CO</td>\n",
       "      <td>...</td>\n",
       "      <td>2015.0</td>\n",
       "      <td>2732819</td>\n",
       "      <td>2732819.0</td>\n",
       "      <td>WCS Colombia</td>\n",
       "      <td>JAUM</td>\n",
       "      <td>TJP: 1201</td>\n",
       "      <td>PlantasOC:1201</td>\n",
       "      <td>Juan Pablo Tobón</td>\n",
       "      <td>2015-05-02T00:00:00</td>\n",
       "      <td>Juan Pablo Tobón</td>\n",
       "    </tr>\n",
       "    <tr>\n",
       "      <th>4</th>\n",
       "      <td>1638731870</td>\n",
       "      <td>WCSColombia:2015_PNN_SSL:PlantasOC:1280</td>\n",
       "      <td>Bactris</td>\n",
       "      <td>Bactris pilosa</td>\n",
       "      <td>NaN</td>\n",
       "      <td>SPECIES</td>\n",
       "      <td>Bactris pilosa H.Karst.</td>\n",
       "      <td>Bactris pilosa H. Karst.</td>\n",
       "      <td>H. Karst.</td>\n",
       "      <td>CO</td>\n",
       "      <td>...</td>\n",
       "      <td>2015.0</td>\n",
       "      <td>2733324</td>\n",
       "      <td>2733324.0</td>\n",
       "      <td>WCS Colombia</td>\n",
       "      <td>JAUM</td>\n",
       "      <td>TJP: 1280</td>\n",
       "      <td>PlantasOC:1280</td>\n",
       "      <td>Juan Pablo Tobón</td>\n",
       "      <td>2015-05-02T00:00:00</td>\n",
       "      <td>Juan Pablo Tobón</td>\n",
       "    </tr>\n",
       "  </tbody>\n",
       "</table>\n",
       "<p>5 rows × 29 columns</p>\n",
       "</div>"
      ],
      "text/plain": [
       "       gbifID                                occurrenceID        genus  \\\n",
       "0  1638731776     WCSColombia:2015_PNN_SSL:PlantasOC:1234      Geonoma   \n",
       "1  1638731823  WCSColombia:2015_PNN_SSL:PlantasC1800:0239      Geonoma   \n",
       "2  1638731820     WCSColombia:2015_PNN_SSL:PlantasOC:1226  Phytelephas   \n",
       "3  1638731817     WCSColombia:2015_PNN_SSL:PlantasOC:1201      Attalea   \n",
       "4  1638731870     WCSColombia:2015_PNN_SSL:PlantasOC:1280      Bactris   \n",
       "\n",
       "                   species infraspecificEpithet taxonRank  \\\n",
       "0          Geonoma stricta                  NaN   SPECIES   \n",
       "1  Geonoma chlamydostachys                  NaN   SPECIES   \n",
       "2   Phytelephas macrocarpa                  NaN   SPECIES   \n",
       "3         Attalea nucifera                  NaN   SPECIES   \n",
       "4           Bactris pilosa                  NaN   SPECIES   \n",
       "\n",
       "                       scientificName              verbatimScientificName  \\\n",
       "0       Geonoma stricta (Poit.) Kunth       Geonoma stricta (Poit.) Kunth   \n",
       "1     Geonoma chlamydostachys Galeano     Geonoma chlamydostachys Galeano   \n",
       "2  Phytelephas macrocarpa Ruiz & Pav.  Phytelephas macrocarpa Ruiz & Pav.   \n",
       "3           Attalea nucifera H.Karst.          Attalea nucifera H. Karst.   \n",
       "4             Bactris pilosa H.Karst.            Bactris pilosa H. Karst.   \n",
       "\n",
       "  verbatimScientificNameAuthorship countryCode  ...    year taxonKey  \\\n",
       "0                    (Poit.) Kunth          CO  ...  2015.0  2734102   \n",
       "1                          Galeano          CO  ...  2015.0  2734322   \n",
       "2                      Ruiz & Pav.          CO  ...  2015.0  2736300   \n",
       "3                        H. Karst.          CO  ...  2015.0  2732819   \n",
       "4                        H. Karst.          CO  ...  2015.0  2733324   \n",
       "\n",
       "  speciesKey  institutionCode  collectionCode  catalogNumber  \\\n",
       "0  2734102.0     WCS Colombia            JAUM      TJP: 1234   \n",
       "1  2734322.0     WCS Colombia            TOLI            239   \n",
       "2  2736300.0     WCS Colombia            JAUM      TJP: 1226   \n",
       "3  2732819.0     WCS Colombia            JAUM      TJP: 1201   \n",
       "4  2733324.0     WCS Colombia            JAUM      TJP: 1280   \n",
       "\n",
       "        recordNumber      identifiedBy       dateIdentified        recordedBy  \n",
       "0     PlantasOC:1234  Juan Pablo Tobón  2015-05-02T00:00:00  Juan Pablo Tobón  \n",
       "1  PlantasC1800:0239  Boris Villanueva  2015-07-24T00:00:00  Boris Villanueva  \n",
       "2     PlantasOC:1226  Juan Pablo Tobón  2015-05-02T00:00:00  Juan Pablo Tobón  \n",
       "3     PlantasOC:1201  Juan Pablo Tobón  2015-05-02T00:00:00  Juan Pablo Tobón  \n",
       "4     PlantasOC:1280  Juan Pablo Tobón  2015-05-02T00:00:00  Juan Pablo Tobón  \n",
       "\n",
       "[5 rows x 29 columns]"
      ]
     },
     "execution_count": 123,
     "metadata": {},
     "output_type": "execute_result"
    }
   ],
   "source": [
    "sp_ds = ds2.loc[ds2['taxonRank'] == \"SPECIES\"]\n",
    "#sp_ds.taxonRank.unique() \n",
    "sp_ds.head(5)"
   ]
  },
  {
   "cell_type": "code",
   "execution_count": 124,
   "metadata": {
    "scrolled": true
   },
   "outputs": [
    {
     "name": "stdout",
     "output_type": "stream",
     "text": [
      "There are 104852 records identifed to species level\n"
     ]
    }
   ],
   "source": [
    "print('There are', len(sp_ds.index),'records identifed to species level')"
   ]
  },
  {
   "cell_type": "markdown",
   "metadata": {},
   "source": [
    "#### Check to see if some records do not have coordinates"
   ]
  },
  {
   "cell_type": "code",
   "execution_count": 125,
   "metadata": {
    "scrolled": true
   },
   "outputs": [
    {
     "name": "stdout",
     "output_type": "stream",
     "text": [
      "There are 0 0 records with no coordinates\n"
     ]
    }
   ],
   "source": [
    "print('There are', sp_ds.decimalLatitude.isna().sum(), sp_ds.decimalLongitude.isna().sum(),'records with no coordinates')"
   ]
  },
  {
   "cell_type": "markdown",
   "metadata": {},
   "source": [
    "#### We shall delete the rows that do ot have a collector name (unknown, no disponible, NaN)"
   ]
  },
  {
   "cell_type": "code",
   "execution_count": 127,
   "metadata": {
    "scrolled": true
   },
   "outputs": [
    {
     "data": {
      "text/plain": [
       "115"
      ]
     },
     "execution_count": 127,
     "metadata": {},
     "output_type": "execute_result"
    }
   ],
   "source": [
    "#here we can count the number of such occurences\n",
    "\n",
    "(sp_ds['recordedBy'].values == 'NO DISPONIBLE').sum()"
   ]
  },
  {
   "cell_type": "code",
   "execution_count": 130,
   "metadata": {},
   "outputs": [
    {
     "data": {
      "text/plain": [
       "1461"
      ]
     },
     "execution_count": 130,
     "metadata": {},
     "output_type": "execute_result"
    }
   ],
   "source": [
    "#number of unknown collectors with NaN\n",
    "\n",
    "sp_ds['recordedBy'].isnull().sum()"
   ]
  },
  {
   "cell_type": "code",
   "execution_count": 131,
   "metadata": {},
   "outputs": [],
   "source": [
    "#drop values with unknown collectors\n",
    "\n",
    "sp_ds1 = sp_ds[(sp_ds.recordedBy != 'unknown') & (sp_ds.recordedBy != 'Unknown') & (sp_ds.recordedBy != 'NO DISPONIBLE') & sp_ds['recordedBy'].notnull()]"
   ]
  },
  {
   "cell_type": "code",
   "execution_count": 132,
   "metadata": {},
   "outputs": [
    {
     "data": {
      "text/plain": [
       "103207"
      ]
     },
     "execution_count": 132,
     "metadata": {},
     "output_type": "execute_result"
    }
   ],
   "source": [
    "len(sp_ds1.index)"
   ]
  },
  {
   "cell_type": "code",
   "execution_count": 137,
   "metadata": {
    "scrolled": false
   },
   "outputs": [
    {
     "data": {
      "text/plain": [
       "19148"
      ]
     },
     "execution_count": 137,
     "metadata": {},
     "output_type": "execute_result"
    }
   ],
   "source": [
    "#count number of unique collectors\n",
    "col_unique = sp_ds1.groupby('recordedBy')['recordedBy'].count()\n",
    "len(col_unique.index)"
   ]
  },
  {
   "cell_type": "markdown",
   "metadata": {},
   "source": [
    "#### Create a new df with no duplicates; find duplicates with countryCode, recordNumber and year"
   ]
  },
  {
   "cell_type": "code",
   "execution_count": 145,
   "metadata": {
    "scrolled": true
   },
   "outputs": [
    {
     "name": "stdout",
     "output_type": "stream",
     "text": [
      "There are 77950 records and 2183 species\n"
     ]
    }
   ],
   "source": [
    "unique_spe = sp_ds1.drop_duplicates(subset=['year', 'countryCode', 'recordNumber', 'decimalLongitude', 'species','recordedBy'])\n",
    "\n",
    "print('There are', len(unique_spe.index), 'records and', len(unique_spe.species.unique()), 'species')"
   ]
  },
  {
   "cell_type": "code",
   "execution_count": 146,
   "metadata": {
    "scrolled": true
   },
   "outputs": [
    {
     "name": "stdout",
     "output_type": "stream",
     "text": [
      "recordedBy                             recordNumber          \n",
      "(n/a)                                  781                       1\n",
      "* BAKER                                BAKER 1028                1\n",
      "* BYG                                  BYG 2                     1\n",
      "                                       BYG 22                    1\n",
      "* DAN TURK|J. Randrianasolo|M. Rajoma  DAN TURK 709              1\n",
      "                                                                ..\n",
      "Émile Hassler                          Hassler 3761              1\n",
      "Évrard C.                              1890                      1\n",
      "Óscar Valverde                         Valverde Barrantes 773    1\n",
      "                                       Valverde Barrantes 782    1\n",
      "                                       Valverde Barrantes 993    1\n",
      "Length: 59013, dtype: int64\n"
     ]
    }
   ],
   "source": [
    "#count duplicates of recordedBy and recordNumber\n",
    "\n",
    "dups_recordedBy_recordNumber = unique_spe.pivot_table(index=['recordedBy','recordNumber'], aggfunc='size')\n",
    "print (dups_recordedBy_recordNumber)\n",
    "#dups_recordedBy_recordNumber.head(70)"
   ]
  },
  {
   "cell_type": "markdown",
   "metadata": {},
   "source": [
    "#### Create a new column with only numbers extracted from recordNumber using Regex"
   ]
  },
  {
   "cell_type": "code",
   "execution_count": 103,
   "metadata": {},
   "outputs": [],
   "source": [
    "#import regex\n",
    "import re"
   ]
  },
  {
   "cell_type": "code",
   "execution_count": 147,
   "metadata": {
    "scrolled": false
   },
   "outputs": [
    {
     "name": "stderr",
     "output_type": "stream",
     "text": [
      "<ipython-input-147-7ac1f762056c>:7: SettingWithCopyWarning: \n",
      "A value is trying to be set on a copy of a slice from a DataFrame.\n",
      "Try using .loc[row_indexer,col_indexer] = value instead\n",
      "\n",
      "See the caveats in the documentation: https://pandas.pydata.org/pandas-docs/stable/user_guide/indexing.html#returning-a-view-versus-a-copy\n",
      "  unique_spe['recordNumber']=unique_spe['recordNumber'].fillna('').apply(str)\n",
      "<ipython-input-147-7ac1f762056c>:9: SettingWithCopyWarning: \n",
      "A value is trying to be set on a copy of a slice from a DataFrame.\n",
      "Try using .loc[row_indexer,col_indexer] = value instead\n",
      "\n",
      "See the caveats in the documentation: https://pandas.pydata.org/pandas-docs/stable/user_guide/indexing.html#returning-a-view-versus-a-copy\n",
      "  unique_spe['col_number'] = unique_spe['recordNumber'].apply(lambda x: find_number(x))\n"
     ]
    }
   ],
   "source": [
    "#extract only number from recordNumber and put it in a new column called col_number\n",
    "\n",
    "def find_number(text):\n",
    "    num = re.findall(r'[0-9]+',text)\n",
    "    return \" \".join(num)\n",
    "\n",
    "unique_spe['recordNumber']=unique_spe['recordNumber'].fillna('').apply(str)\n",
    "\n",
    "unique_spe['col_number'] = unique_spe['recordNumber'].apply(lambda x: find_number(x))"
   ]
  },
  {
   "cell_type": "code",
   "execution_count": 154,
   "metadata": {
    "scrolled": true
   },
   "outputs": [
    {
     "data": {
      "text/html": [
       "<div>\n",
       "<style scoped>\n",
       "    .dataframe tbody tr th:only-of-type {\n",
       "        vertical-align: middle;\n",
       "    }\n",
       "\n",
       "    .dataframe tbody tr th {\n",
       "        vertical-align: top;\n",
       "    }\n",
       "\n",
       "    .dataframe thead th {\n",
       "        text-align: right;\n",
       "    }\n",
       "</style>\n",
       "<table border=\"1\" class=\"dataframe\">\n",
       "  <thead>\n",
       "    <tr style=\"text-align: right;\">\n",
       "      <th></th>\n",
       "      <th>gbifID</th>\n",
       "      <th>occurrenceID</th>\n",
       "      <th>genus</th>\n",
       "      <th>species</th>\n",
       "      <th>infraspecificEpithet</th>\n",
       "      <th>taxonRank</th>\n",
       "      <th>scientificName</th>\n",
       "      <th>verbatimScientificName</th>\n",
       "      <th>verbatimScientificNameAuthorship</th>\n",
       "      <th>countryCode</th>\n",
       "      <th>...</th>\n",
       "      <th>taxonKey</th>\n",
       "      <th>speciesKey</th>\n",
       "      <th>institutionCode</th>\n",
       "      <th>collectionCode</th>\n",
       "      <th>catalogNumber</th>\n",
       "      <th>recordNumber</th>\n",
       "      <th>identifiedBy</th>\n",
       "      <th>dateIdentified</th>\n",
       "      <th>recordedBy</th>\n",
       "      <th>col_number</th>\n",
       "    </tr>\n",
       "  </thead>\n",
       "  <tbody>\n",
       "    <tr>\n",
       "      <th>130889</th>\n",
       "      <td>1094173263</td>\n",
       "      <td>BRA:UESC:UESC:9874</td>\n",
       "      <td>Syagrus</td>\n",
       "      <td>Syagrus schizophylla</td>\n",
       "      <td>NaN</td>\n",
       "      <td>SPECIES</td>\n",
       "      <td>Syagrus schizophylla (Mart.) Glassman</td>\n",
       "      <td>Syagrus schizophylla</td>\n",
       "      <td>NaN</td>\n",
       "      <td>BR</td>\n",
       "      <td>...</td>\n",
       "      <td>5293907</td>\n",
       "      <td>5293907.0</td>\n",
       "      <td>UESC</td>\n",
       "      <td>UESC</td>\n",
       "      <td>9874</td>\n",
       "      <td>1517</td>\n",
       "      <td>NaN</td>\n",
       "      <td>NaN</td>\n",
       "      <td>Jesus, N.G.</td>\n",
       "      <td>1517</td>\n",
       "    </tr>\n",
       "    <tr>\n",
       "      <th>130890</th>\n",
       "      <td>1094173265</td>\n",
       "      <td>BRA:UESC:UESC:9832</td>\n",
       "      <td>Allagoptera</td>\n",
       "      <td>Allagoptera arenaria</td>\n",
       "      <td>NaN</td>\n",
       "      <td>SPECIES</td>\n",
       "      <td>Allagoptera arenaria (Gomes) Kuntze</td>\n",
       "      <td>Allagoptera arenaria</td>\n",
       "      <td>Kuntze</td>\n",
       "      <td>BR</td>\n",
       "      <td>...</td>\n",
       "      <td>2732040</td>\n",
       "      <td>2732040.0</td>\n",
       "      <td>UESC</td>\n",
       "      <td>UESC</td>\n",
       "      <td>9832</td>\n",
       "      <td>1547</td>\n",
       "      <td>NaN</td>\n",
       "      <td>NaN</td>\n",
       "      <td>Jesus, N.G.</td>\n",
       "      <td>1547</td>\n",
       "    </tr>\n",
       "    <tr>\n",
       "      <th>130891</th>\n",
       "      <td>1094177008</td>\n",
       "      <td>BRA:UESC:UESC:16326</td>\n",
       "      <td>Attalea</td>\n",
       "      <td>Attalea funifera</td>\n",
       "      <td>NaN</td>\n",
       "      <td>SPECIES</td>\n",
       "      <td>Attalea funifera Mart.</td>\n",
       "      <td>Attalea funifera</td>\n",
       "      <td>Martius</td>\n",
       "      <td>BR</td>\n",
       "      <td>...</td>\n",
       "      <td>2732833</td>\n",
       "      <td>2732833.0</td>\n",
       "      <td>UESC</td>\n",
       "      <td>UESC</td>\n",
       "      <td>16326</td>\n",
       "      <td>1</td>\n",
       "      <td>L.A.Mattos-Silva</td>\n",
       "      <td>2013-12-01T00:00:00</td>\n",
       "      <td>Noara M.Pimentel,</td>\n",
       "      <td>1</td>\n",
       "    </tr>\n",
       "    <tr>\n",
       "      <th>130892</th>\n",
       "      <td>1094173229</td>\n",
       "      <td>BRA:UESC:UESC:9814</td>\n",
       "      <td>Allagoptera</td>\n",
       "      <td>Allagoptera arenaria</td>\n",
       "      <td>NaN</td>\n",
       "      <td>SPECIES</td>\n",
       "      <td>Allagoptera arenaria (Gomes) Kuntze</td>\n",
       "      <td>Allagoptera arenaria</td>\n",
       "      <td>Kuntze</td>\n",
       "      <td>BR</td>\n",
       "      <td>...</td>\n",
       "      <td>2732040</td>\n",
       "      <td>2732040.0</td>\n",
       "      <td>UESC</td>\n",
       "      <td>UESC</td>\n",
       "      <td>9814</td>\n",
       "      <td>4857</td>\n",
       "      <td>NaN</td>\n",
       "      <td>NaN</td>\n",
       "      <td>L.A.Mattos Silva</td>\n",
       "      <td>4857</td>\n",
       "    </tr>\n",
       "    <tr>\n",
       "      <th>130893</th>\n",
       "      <td>1094177056</td>\n",
       "      <td>BRA:UESC:UESC:16356</td>\n",
       "      <td>Desmoncus</td>\n",
       "      <td>Desmoncus polyacanthos</td>\n",
       "      <td>NaN</td>\n",
       "      <td>SPECIES</td>\n",
       "      <td>Desmoncus polyacanthos Mart.</td>\n",
       "      <td>Desmoncus polyacanthos</td>\n",
       "      <td>NaN</td>\n",
       "      <td>BR</td>\n",
       "      <td>...</td>\n",
       "      <td>2738831</td>\n",
       "      <td>2738831.0</td>\n",
       "      <td>UESC</td>\n",
       "      <td>UESC</td>\n",
       "      <td>16356</td>\n",
       "      <td>4</td>\n",
       "      <td>C.N. Daltrini</td>\n",
       "      <td>2014-02-01T00:00:00</td>\n",
       "      <td>Daltrini, C.N.</td>\n",
       "      <td>4</td>\n",
       "    </tr>\n",
       "  </tbody>\n",
       "</table>\n",
       "<p>5 rows × 30 columns</p>\n",
       "</div>"
      ],
      "text/plain": [
       "            gbifID         occurrenceID        genus                 species  \\\n",
       "130889  1094173263   BRA:UESC:UESC:9874      Syagrus    Syagrus schizophylla   \n",
       "130890  1094173265   BRA:UESC:UESC:9832  Allagoptera    Allagoptera arenaria   \n",
       "130891  1094177008  BRA:UESC:UESC:16326      Attalea        Attalea funifera   \n",
       "130892  1094173229   BRA:UESC:UESC:9814  Allagoptera    Allagoptera arenaria   \n",
       "130893  1094177056  BRA:UESC:UESC:16356    Desmoncus  Desmoncus polyacanthos   \n",
       "\n",
       "       infraspecificEpithet taxonRank                         scientificName  \\\n",
       "130889                  NaN   SPECIES  Syagrus schizophylla (Mart.) Glassman   \n",
       "130890                  NaN   SPECIES    Allagoptera arenaria (Gomes) Kuntze   \n",
       "130891                  NaN   SPECIES                 Attalea funifera Mart.   \n",
       "130892                  NaN   SPECIES    Allagoptera arenaria (Gomes) Kuntze   \n",
       "130893                  NaN   SPECIES           Desmoncus polyacanthos Mart.   \n",
       "\n",
       "        verbatimScientificName verbatimScientificNameAuthorship countryCode  \\\n",
       "130889    Syagrus schizophylla                              NaN          BR   \n",
       "130890    Allagoptera arenaria                           Kuntze          BR   \n",
       "130891        Attalea funifera                          Martius          BR   \n",
       "130892    Allagoptera arenaria                           Kuntze          BR   \n",
       "130893  Desmoncus polyacanthos                              NaN          BR   \n",
       "\n",
       "        ... taxonKey speciesKey institutionCode  collectionCode  \\\n",
       "130889  ...  5293907  5293907.0            UESC            UESC   \n",
       "130890  ...  2732040  2732040.0            UESC            UESC   \n",
       "130891  ...  2732833  2732833.0            UESC            UESC   \n",
       "130892  ...  2732040  2732040.0            UESC            UESC   \n",
       "130893  ...  2738831  2738831.0            UESC            UESC   \n",
       "\n",
       "        catalogNumber  recordNumber      identifiedBy       dateIdentified  \\\n",
       "130889           9874          1517               NaN                  NaN   \n",
       "130890           9832          1547               NaN                  NaN   \n",
       "130891          16326             1  L.A.Mattos-Silva  2013-12-01T00:00:00   \n",
       "130892           9814          4857               NaN                  NaN   \n",
       "130893          16356             4     C.N. Daltrini  2014-02-01T00:00:00   \n",
       "\n",
       "               recordedBy  col_number  \n",
       "130889        Jesus, N.G.        1517  \n",
       "130890        Jesus, N.G.        1547  \n",
       "130891  Noara M.Pimentel,           1  \n",
       "130892   L.A.Mattos Silva        4857  \n",
       "130893     Daltrini, C.N.           4  \n",
       "\n",
       "[5 rows x 30 columns]"
      ]
     },
     "execution_count": 154,
     "metadata": {},
     "output_type": "execute_result"
    }
   ],
   "source": [
    "unique_spe.tail(5)"
   ]
  },
  {
   "cell_type": "markdown",
   "metadata": {},
   "source": [
    "#### A new filter on same col_number and collector"
   ]
  },
  {
   "cell_type": "code",
   "execution_count": 156,
   "metadata": {},
   "outputs": [
    {
     "name": "stdout",
     "output_type": "stream",
     "text": [
      "There are 66107 records and 2142 species\n"
     ]
    }
   ],
   "source": [
    "unique_spe1 = unique_spe.drop_duplicates(subset=['recordedBy', 'col_number'])\n",
    "\n",
    "print('There are', len(unique_spe_red1.index), 'records and', len(unique_spe_red1.species.unique()), 'species')"
   ]
  },
  {
   "cell_type": "markdown",
   "metadata": {},
   "source": [
    "#### Write fitered dataframe to csv but select only essential columns"
   ]
  },
  {
   "cell_type": "code",
   "execution_count": 162,
   "metadata": {},
   "outputs": [
    {
     "data": {
      "text/html": [
       "<div>\n",
       "<style scoped>\n",
       "    .dataframe tbody tr th:only-of-type {\n",
       "        vertical-align: middle;\n",
       "    }\n",
       "\n",
       "    .dataframe tbody tr th {\n",
       "        vertical-align: top;\n",
       "    }\n",
       "\n",
       "    .dataframe thead th {\n",
       "        text-align: right;\n",
       "    }\n",
       "</style>\n",
       "<table border=\"1\" class=\"dataframe\">\n",
       "  <thead>\n",
       "    <tr style=\"text-align: right;\">\n",
       "      <th></th>\n",
       "      <th>recordedBy</th>\n",
       "      <th>col_number</th>\n",
       "      <th>species</th>\n",
       "      <th>decimalLongitude</th>\n",
       "      <th>decimalLatitude</th>\n",
       "      <th>countryCode</th>\n",
       "      <th>year</th>\n",
       "    </tr>\n",
       "  </thead>\n",
       "  <tbody>\n",
       "    <tr>\n",
       "      <th>0</th>\n",
       "      <td>Juan Pablo Tobón</td>\n",
       "      <td>1234</td>\n",
       "      <td>Geonoma stricta</td>\n",
       "      <td>-74.353806</td>\n",
       "      <td>7.122111</td>\n",
       "      <td>CO</td>\n",
       "      <td>2015.0</td>\n",
       "    </tr>\n",
       "    <tr>\n",
       "      <th>1</th>\n",
       "      <td>Boris Villanueva</td>\n",
       "      <td>1800 0239</td>\n",
       "      <td>Geonoma chlamydostachys</td>\n",
       "      <td>-74.344222</td>\n",
       "      <td>7.677222</td>\n",
       "      <td>CO</td>\n",
       "      <td>2015.0</td>\n",
       "    </tr>\n",
       "    <tr>\n",
       "      <th>2</th>\n",
       "      <td>Juan Pablo Tobón</td>\n",
       "      <td>1226</td>\n",
       "      <td>Phytelephas macrocarpa</td>\n",
       "      <td>-74.353806</td>\n",
       "      <td>7.122111</td>\n",
       "      <td>CO</td>\n",
       "      <td>2015.0</td>\n",
       "    </tr>\n",
       "    <tr>\n",
       "      <th>3</th>\n",
       "      <td>Juan Pablo Tobón</td>\n",
       "      <td>1201</td>\n",
       "      <td>Attalea nucifera</td>\n",
       "      <td>-74.353806</td>\n",
       "      <td>7.122111</td>\n",
       "      <td>CO</td>\n",
       "      <td>2015.0</td>\n",
       "    </tr>\n",
       "    <tr>\n",
       "      <th>4</th>\n",
       "      <td>Juan Pablo Tobón</td>\n",
       "      <td>1280</td>\n",
       "      <td>Bactris pilosa</td>\n",
       "      <td>-74.353806</td>\n",
       "      <td>7.122111</td>\n",
       "      <td>CO</td>\n",
       "      <td>2015.0</td>\n",
       "    </tr>\n",
       "    <tr>\n",
       "      <th>5</th>\n",
       "      <td>Juan Pablo Tobón</td>\n",
       "      <td>1281</td>\n",
       "      <td>Ammandra decasperma</td>\n",
       "      <td>-74.353806</td>\n",
       "      <td>7.122111</td>\n",
       "      <td>CO</td>\n",
       "      <td>2015.0</td>\n",
       "    </tr>\n",
       "    <tr>\n",
       "      <th>6</th>\n",
       "      <td>Juan Pablo Tobón</td>\n",
       "      <td>1262</td>\n",
       "      <td>Wettinia hirsuta</td>\n",
       "      <td>-74.353806</td>\n",
       "      <td>7.122111</td>\n",
       "      <td>CO</td>\n",
       "      <td>2015.0</td>\n",
       "    </tr>\n",
       "    <tr>\n",
       "      <th>7</th>\n",
       "      <td>Juan Pablo Tobón</td>\n",
       "      <td>1247</td>\n",
       "      <td>Geonoma deversa</td>\n",
       "      <td>-74.353806</td>\n",
       "      <td>7.122111</td>\n",
       "      <td>CO</td>\n",
       "      <td>2015.0</td>\n",
       "    </tr>\n",
       "    <tr>\n",
       "      <th>12</th>\n",
       "      <td>Vichith Lamxay, Lakhone Sithammachak, Bounkeut...</td>\n",
       "      <td></td>\n",
       "      <td>Caryota mitis</td>\n",
       "      <td>105.456920</td>\n",
       "      <td>17.841920</td>\n",
       "      <td>LA</td>\n",
       "      <td>2008.0</td>\n",
       "    </tr>\n",
       "    <tr>\n",
       "      <th>13</th>\n",
       "      <td>Kool, A., Boer, H.J. de, Lamxay, V., Insisieng...</td>\n",
       "      <td></td>\n",
       "      <td>Calamus rudentum</td>\n",
       "      <td>105.339300</td>\n",
       "      <td>17.509100</td>\n",
       "      <td>LA</td>\n",
       "      <td>2006.0</td>\n",
       "    </tr>\n",
       "  </tbody>\n",
       "</table>\n",
       "</div>"
      ],
      "text/plain": [
       "                                           recordedBy col_number  \\\n",
       "0                                    Juan Pablo Tobón       1234   \n",
       "1                                    Boris Villanueva  1800 0239   \n",
       "2                                    Juan Pablo Tobón       1226   \n",
       "3                                    Juan Pablo Tobón       1201   \n",
       "4                                    Juan Pablo Tobón       1280   \n",
       "5                                    Juan Pablo Tobón       1281   \n",
       "6                                    Juan Pablo Tobón       1262   \n",
       "7                                    Juan Pablo Tobón       1247   \n",
       "12  Vichith Lamxay, Lakhone Sithammachak, Bounkeut...              \n",
       "13  Kool, A., Boer, H.J. de, Lamxay, V., Insisieng...              \n",
       "\n",
       "                    species  decimalLongitude  decimalLatitude countryCode  \\\n",
       "0           Geonoma stricta        -74.353806         7.122111          CO   \n",
       "1   Geonoma chlamydostachys        -74.344222         7.677222          CO   \n",
       "2    Phytelephas macrocarpa        -74.353806         7.122111          CO   \n",
       "3          Attalea nucifera        -74.353806         7.122111          CO   \n",
       "4            Bactris pilosa        -74.353806         7.122111          CO   \n",
       "5       Ammandra decasperma        -74.353806         7.122111          CO   \n",
       "6          Wettinia hirsuta        -74.353806         7.122111          CO   \n",
       "7           Geonoma deversa        -74.353806         7.122111          CO   \n",
       "12            Caryota mitis        105.456920        17.841920          LA   \n",
       "13         Calamus rudentum        105.339300        17.509100          LA   \n",
       "\n",
       "      year  \n",
       "0   2015.0  \n",
       "1   2015.0  \n",
       "2   2015.0  \n",
       "3   2015.0  \n",
       "4   2015.0  \n",
       "5   2015.0  \n",
       "6   2015.0  \n",
       "7   2015.0  \n",
       "12  2008.0  \n",
       "13  2006.0  "
      ]
     },
     "execution_count": 162,
     "metadata": {},
     "output_type": "execute_result"
    }
   ],
   "source": [
    "unique_spe_red = unique_spe1[[\"recordedBy\", \"col_number\", \"species\", \"decimalLongitude\", \"decimalLatitude\", \"countryCode\", \"year\"]]\n",
    "unique_spe_red.to_csv(\"unique_spe_palms.csv\")"
   ]
  },
  {
   "cell_type": "markdown",
   "metadata": {},
   "source": [
    "## Plot data"
   ]
  },
  {
   "cell_type": "code",
   "execution_count": 41,
   "metadata": {},
   "outputs": [],
   "source": [
    "from shapely.geometry import Point, mapping\n",
    "from fiona import collection\n",
    "from geopandas import GeoDataFrame\n",
    "import geopandas as gpd\n",
    "import matplotlib.pyplot as plt\n",
    "import fiona"
   ]
  },
  {
   "cell_type": "markdown",
   "metadata": {},
   "source": [
    "### Create shape file using filtered dataset"
   ]
  },
  {
   "cell_type": "code",
   "execution_count": 164,
   "metadata": {},
   "outputs": [
    {
     "name": "stderr",
     "output_type": "stream",
     "text": [
      "C:\\Users\\couvreur.MPLCLTPO0722\\anaconda3\\lib\\site-packages\\pyproj\\crs\\crs.py:53: FutureWarning: '+init=<authority>:<code>' syntax is deprecated. '<authority>:<code>' is the preferred initialization method. When making the change, be mindful of axis order changes: https://pyproj4.github.io/pyproj/stable/gotchas.html#axis-order-changes-in-proj-6\n",
      "  return _prepare_from_string(\" \".join(pjargs))\n",
      "<ipython-input-164-d2dee0dcb701>:7: UserWarning: Column names longer than 10 characters will be truncated when saved to ESRI Shapefile.\n",
      "  geo_df.to_file(driver='ESRI Shapefile', filename='palm_dist')\n"
     ]
    }
   ],
   "source": [
    "data = unique_spe_red\n",
    "\n",
    "geometry = [Point(xy) for xy in zip(data.decimalLongitude, data.decimalLatitude)]\n",
    "crs = {'init': 'epsg:4326'} #http://www.spatialreference.org/ref/epsg/2263/\n",
    "geo_df = GeoDataFrame(data, crs=crs, geometry=geometry)\n",
    "\n",
    "geo_df.to_file(driver='ESRI Shapefile', filename='palm_dist')\n",
    "\n",
    "geo_especies = gpd.read_file(\"palm_dist/palm_dist.shp\")"
   ]
  },
  {
   "cell_type": "markdown",
   "metadata": {},
   "source": [
    "### Plot distribution using world map"
   ]
  },
  {
   "cell_type": "code",
   "execution_count": 165,
   "metadata": {},
   "outputs": [
    {
     "data": {
      "text/plain": [
       "Text(57.875, 0.5, 'Latitude')"
      ]
     },
     "execution_count": 165,
     "metadata": {},
     "output_type": "execute_result"
    },
    {
     "data": {
      "image/png": "[encoded data removed]",
      "text/plain": [
       "<Figure size 720x360 with 1 Axes>"
      ]
     },
     "metadata": {
      "needs_background": "light"
     },
     "output_type": "display_data"
    }
   ],
   "source": [
    "countries = gpd.read_file(\"./world_adm0.shp\")\n",
    "\n",
    "fig, ax = plt.subplots(figsize=(10,5))\n",
    "\n",
    "countries.plot(ax=ax, facecolor='Grey', edgecolor='k',alpha=1,linewidth=1)\n",
    "\n",
    "#You can use different 'cmaps' such as jet, plasm,magma, infereno,cividis, binary...(I simply chose cividis)\n",
    "\n",
    "geo_especies.plot(ax=ax, color='red', markersize=5);\n",
    "\n",
    "fig.suptitle('Plam speciemens before cleaning', fontsize=12)\n",
    "ax.set_xlabel('Longitude', fontsize=10)\n",
    "ax.set_ylabel('Latitude', fontsize='medium')"
   ]
  }
 ],
 "metadata": {
  "kernelspec": {
   "display_name": "Python 3",
   "language": "python",
   "name": "python3"
  },
  "language_info": {
   "codemirror_mode": {
    "name": "ipython",
    "version": 3
   },
   "file_extension": ".py",
   "mimetype": "text/x-python",
   "name": "python",
   "nbconvert_exporter": "python",
   "pygments_lexer": "ipython3",
   "version": "3.8.5"
  }
 },
 "nbformat": 4,
 "nbformat_minor": 4
}
